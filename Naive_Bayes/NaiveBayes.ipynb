{
 "cells": [
  {
   "cell_type": "code",
   "execution_count": 22,
   "metadata": {},
   "outputs": [
    {
     "name": "stdout",
     "output_type": "stream",
     "text": [
      "      1.3\n",
      "0       1\n",
      "1       0\n",
      "2       0\n",
      "3       0\n",
      "4       1\n",
      "...   ...\n",
      "1303    0\n",
      "1304    0\n",
      "1305    0\n",
      "1306    0\n",
      "1307    0\n",
      "\n",
      "[1308 rows x 1 columns]\n"
     ]
    }
   ],
   "source": [
    "import pandas as pd\n",
    "import numpy as np\n",
    "from sklearn.model_selection import train_test_split"
   ]
  },
  {
   "cell_type": "code",
   "execution_count": 31,
   "metadata": {},
   "outputs": [
    {
     "name": "stdout",
     "output_type": "stream",
     "text": [
      "876 training records and 432 testing records\n"
     ]
    }
   ],
   "source": [
    "filename = \"titanic_numerical_clean.csv\"\n",
    "X = pd.read_csv(filename, usecols=[0,25], sep=\",\", header=0)\n",
    "Y = pd.read_csv(filename, usecols=[26], sep=\",\", header=0)\n",
    "trainX, testX, trainY, testY = train_test_split(X, Y, test_size=0.33)\n",
    "\n",
    "print(len(trainX), 'training records and', len(testX), 'testing records')\n",
    "\n",
    "def trainAndPredict(model):\n",
    "    model.fit(trainX, trainY)\n",
    "    predictions = model.predict(testX)\n",
    "    mismatch = 0\n",
    "    for estimate, real in zip(predictions, testY):\n",
    "        if estimate != real:\n",
    "            mismatch += 1\n",
    "    return mismatch"
   ]
  },
  {
   "cell_type": "code",
   "execution_count": null,
   "metadata": {},
   "outputs": [],
   "source": []
  },
  {
   "cell_type": "code",
   "execution_count": null,
   "metadata": {},
   "outputs": [],
   "source": []
  },
  {
   "cell_type": "code",
   "execution_count": null,
   "metadata": {},
   "outputs": [],
   "source": []
  }
 ],
 "metadata": {
  "kernelspec": {
   "display_name": "Python 3",
   "language": "python",
   "name": "python3"
  },
  "language_info": {
   "codemirror_mode": {
    "name": "ipython",
    "version": 3
   },
   "file_extension": ".py",
   "mimetype": "text/x-python",
   "name": "python",
   "nbconvert_exporter": "python",
   "pygments_lexer": "ipython3",
   "version": "3.7.4"
  }
 },
 "nbformat": 4,
 "nbformat_minor": 4
}
