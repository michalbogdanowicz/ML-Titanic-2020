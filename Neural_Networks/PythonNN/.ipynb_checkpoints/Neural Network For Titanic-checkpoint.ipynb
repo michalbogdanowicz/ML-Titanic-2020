{
 "cells": [
  {
   "cell_type": "markdown",
   "metadata": {},
   "source": [
    "# Neural Network For Titanic"
   ]
  },
  {
   "cell_type": "markdown",
   "metadata": {},
   "source": [
    "## Load the data\n",
    "\n",
    "Load the data from the other proejct into memory by using the pandas library."
   ]
  },
  {
   "cell_type": "code",
   "execution_count": 1,
   "metadata": {},
   "outputs": [
    {
     "data": {
      "text/html": [
       "<div>\n",
       "<style scoped>\n",
       "    .dataframe tbody tr th:only-of-type {\n",
       "        vertical-align: middle;\n",
       "    }\n",
       "\n",
       "    .dataframe tbody tr th {\n",
       "        vertical-align: top;\n",
       "    }\n",
       "\n",
       "    .dataframe thead th {\n",
       "        text-align: right;\n",
       "    }\n",
       "</style>\n",
       "<table border=\"1\" class=\"dataframe\">\n",
       "  <thead>\n",
       "    <tr style=\"text-align: right;\">\n",
       "      <th></th>\n",
       "      <th>Unnamed: 0</th>\n",
       "      <th>Age</th>\n",
       "      <th>sibsp</th>\n",
       "      <th>parch</th>\n",
       "      <th>fare</th>\n",
       "      <th>female</th>\n",
       "      <th>Col</th>\n",
       "      <th>Don</th>\n",
       "      <th>Dona</th>\n",
       "      <th>Dr</th>\n",
       "      <th>...</th>\n",
       "      <th>Mrs</th>\n",
       "      <th>Ms</th>\n",
       "      <th>Rev</th>\n",
       "      <th>Sir</th>\n",
       "      <th>the Countess</th>\n",
       "      <th>Q</th>\n",
       "      <th>S</th>\n",
       "      <th>class-2</th>\n",
       "      <th>class-3</th>\n",
       "      <th>survived</th>\n",
       "    </tr>\n",
       "  </thead>\n",
       "  <tbody>\n",
       "    <tr>\n",
       "      <th>868</th>\n",
       "      <td>868</td>\n",
       "      <td>43.0</td>\n",
       "      <td>0</td>\n",
       "      <td>0</td>\n",
       "      <td>6.4500</td>\n",
       "      <td>0</td>\n",
       "      <td>0</td>\n",
       "      <td>0</td>\n",
       "      <td>0</td>\n",
       "      <td>0</td>\n",
       "      <td>...</td>\n",
       "      <td>0</td>\n",
       "      <td>0</td>\n",
       "      <td>0</td>\n",
       "      <td>0</td>\n",
       "      <td>0</td>\n",
       "      <td>0</td>\n",
       "      <td>1</td>\n",
       "      <td>0</td>\n",
       "      <td>1</td>\n",
       "      <td>0</td>\n",
       "    </tr>\n",
       "    <tr>\n",
       "      <th>492</th>\n",
       "      <td>492</td>\n",
       "      <td>1.0</td>\n",
       "      <td>0</td>\n",
       "      <td>2</td>\n",
       "      <td>37.0042</td>\n",
       "      <td>0</td>\n",
       "      <td>0</td>\n",
       "      <td>0</td>\n",
       "      <td>0</td>\n",
       "      <td>0</td>\n",
       "      <td>...</td>\n",
       "      <td>0</td>\n",
       "      <td>0</td>\n",
       "      <td>0</td>\n",
       "      <td>0</td>\n",
       "      <td>0</td>\n",
       "      <td>0</td>\n",
       "      <td>0</td>\n",
       "      <td>1</td>\n",
       "      <td>0</td>\n",
       "      <td>1</td>\n",
       "    </tr>\n",
       "    <tr>\n",
       "      <th>186</th>\n",
       "      <td>186</td>\n",
       "      <td>55.0</td>\n",
       "      <td>0</td>\n",
       "      <td>0</td>\n",
       "      <td>27.7208</td>\n",
       "      <td>1</td>\n",
       "      <td>0</td>\n",
       "      <td>0</td>\n",
       "      <td>0</td>\n",
       "      <td>0</td>\n",
       "      <td>...</td>\n",
       "      <td>1</td>\n",
       "      <td>0</td>\n",
       "      <td>0</td>\n",
       "      <td>0</td>\n",
       "      <td>0</td>\n",
       "      <td>0</td>\n",
       "      <td>0</td>\n",
       "      <td>0</td>\n",
       "      <td>0</td>\n",
       "      <td>1</td>\n",
       "    </tr>\n",
       "    <tr>\n",
       "      <th>141</th>\n",
       "      <td>141</td>\n",
       "      <td>45.0</td>\n",
       "      <td>0</td>\n",
       "      <td>1</td>\n",
       "      <td>63.3583</td>\n",
       "      <td>1</td>\n",
       "      <td>0</td>\n",
       "      <td>0</td>\n",
       "      <td>0</td>\n",
       "      <td>0</td>\n",
       "      <td>...</td>\n",
       "      <td>1</td>\n",
       "      <td>0</td>\n",
       "      <td>0</td>\n",
       "      <td>0</td>\n",
       "      <td>0</td>\n",
       "      <td>0</td>\n",
       "      <td>0</td>\n",
       "      <td>0</td>\n",
       "      <td>0</td>\n",
       "      <td>1</td>\n",
       "    </tr>\n",
       "    <tr>\n",
       "      <th>716</th>\n",
       "      <td>716</td>\n",
       "      <td>26.0</td>\n",
       "      <td>1</td>\n",
       "      <td>0</td>\n",
       "      <td>14.4542</td>\n",
       "      <td>0</td>\n",
       "      <td>0</td>\n",
       "      <td>0</td>\n",
       "      <td>0</td>\n",
       "      <td>0</td>\n",
       "      <td>...</td>\n",
       "      <td>0</td>\n",
       "      <td>0</td>\n",
       "      <td>0</td>\n",
       "      <td>0</td>\n",
       "      <td>0</td>\n",
       "      <td>0</td>\n",
       "      <td>0</td>\n",
       "      <td>0</td>\n",
       "      <td>1</td>\n",
       "      <td>0</td>\n",
       "    </tr>\n",
       "  </tbody>\n",
       "</table>\n",
       "<p>5 rows × 28 columns</p>\n",
       "</div>"
      ],
      "text/plain": [
       "     Unnamed: 0   Age  sibsp  parch     fare  female   Col   Don   Dona   Dr  \\\n",
       "868         868  43.0      0      0   6.4500       0     0     0      0    0   \n",
       "492         492   1.0      0      2  37.0042       0     0     0      0    0   \n",
       "186         186  55.0      0      0  27.7208       1     0     0      0    0   \n",
       "141         141  45.0      0      1  63.3583       1     0     0      0    0   \n",
       "716         716  26.0      1      0  14.4542       0     0     0      0    0   \n",
       "\n",
       "     ...   Mrs   Ms   Rev   Sir   the Countess  Q  S  class-2  class-3  \\\n",
       "868  ...     0    0     0     0              0  0  1        0        1   \n",
       "492  ...     0    0     0     0              0  0  0        1        0   \n",
       "186  ...     1    0     0     0              0  0  0        0        0   \n",
       "141  ...     1    0     0     0              0  0  0        0        0   \n",
       "716  ...     0    0     0     0              0  0  0        0        1   \n",
       "\n",
       "     survived  \n",
       "868         0  \n",
       "492         1  \n",
       "186         1  \n",
       "141         1  \n",
       "716         0  \n",
       "\n",
       "[5 rows x 28 columns]"
      ]
     },
     "execution_count": 1,
     "metadata": {},
     "output_type": "execute_result"
    }
   ],
   "source": [
    "import os\n",
    "from pathlib import Path\n",
    "import pandas as pd\n",
    "import numpy as np\n",
    "import sklearn as skl\n",
    "from tqdm import tqdm\n",
    "the_path = Path(os.getcwd())\n",
    "the_path = the_path.parents[1];\n",
    "# t_data = pd.read_csv(\"..\\..\\Python_Cleaner\\titanic_numerical_clean._With_Headers.csv\")\n",
    "# t_data.head()\n",
    "the_path = the_path / 'Python_Cleaner' / 'titanic_numerical_clean._With_Headers.csv'\n",
    "data = pd.read_csv(the_path, sep=\",\", header=0)\n",
    "data = data.sample(frac=1) # reshuffle all the rows.\n",
    "data.head()\n"
   ]
  },
  {
   "cell_type": "markdown",
   "metadata": {},
   "source": [
    "## Remove unnamed:0 if present\n",
    "This is a lefot over of index of the pandas export of the project Python_cleaner\n"
   ]
  },
  {
   "cell_type": "code",
   "execution_count": 2,
   "metadata": {},
   "outputs": [],
   "source": [
    "if 'Unnamed: 0' in data.columns:\n",
    "    del data['Unnamed: 0']\n",
    "data.head()\n",
    "\n",
    "y = data.pop('survived')\n",
    "X = data"
   ]
  },
  {
   "cell_type": "markdown",
   "metadata": {},
   "source": [
    "## Test for the best accuracy with 10-Fold CV (Without scaling)\n",
    "\n",
    "Create the data samples."
   ]
  },
  {
   "cell_type": "code",
   "execution_count": 3,
   "metadata": {},
   "outputs": [],
   "source": [
    "from sklearn.neural_network import MLPClassifier\n",
    "import numpy as np\n",
    "\n",
    "from sklearn.model_selection import KFold\n",
    "\n",
    "X_np_array = np.array(X)\n",
    "y_np_array = np.array(y)\n",
    "\n",
    "kf = KFold(n_splits=10)\n",
    "#for each fold. train the model and get the accuracy.\n",
    "features_len = len(X_np_array[0])\n",
    "\n",
    "\n",
    "# from 1 to 5 hidden layers\n",
    "# from features_len -5 to features_len +5\n",
    "# calculate the accuracy across the 5_folds each.\n",
    "def evaluate(x_input, y_input, solver_string, list_of_hidden_layers, list_of_neurons_num,scale = False,):\n",
    "    pbar = tqdm(total=(len(list_of_hidden_layers)*len(list_of_neurons_num)))\n",
    "    \n",
    "    results = np.zeros([len(list_of_hidden_layers), len(list_of_neurons_num)]) \n",
    "    training_results = np.zeros([len(list_of_hidden_layers), len(list_of_neurons_num)]) \n",
    "    \n",
    "    mean_Accuracy = 0\n",
    "    mean_accuracy_training = 0\n",
    "    for hidden_layers_num in list_of_hidden_layers:\n",
    "        for neurons in list_of_neurons_num:\n",
    "            hidden_layers = []\n",
    "            for additional in range(1,hidden_layers_num+1):\n",
    "                hidden_layers.append(neurons)\n",
    "            hidden_layers= tuple(hidden_layers)\n",
    "            for train, test in kf.split(x_input):\n",
    "                X_train, X_test, y_train, y_test = x_input[train], x_input[test], y_input[train], y_input[test]\n",
    "                clf = MLPClassifier(solver=solver_string, alpha=1e-3,\n",
    "                                hidden_layer_sizes=hidden_layers, random_state=1, max_iter=200)\n",
    "                \n",
    "                if scale:\n",
    "                    scaler = skl.preprocessing.StandardScaler().fit(X_train)\n",
    "                    X_train = scaler.transform(X_train)\n",
    "                    X_test = scaler.transform(X_test)\n",
    "                clf.fit(X_train, y_train)\n",
    "                # testi accuracy\n",
    "                comparison = (clf.predict(X_test) == y_test)\n",
    "                accuracy = np.sum(comparison) / len(comparison) \n",
    "                mean_Accuracy += accuracy\n",
    "                # training accuracy\n",
    "                cp2 =  (clf.predict(X_test) == y_test)\n",
    "                accuracy = np.sum(cp2) / len(cp2) \n",
    "                mean_accuracy_training += accuracy\n",
    "                \n",
    "            results[hidden_layers_num-1][neurons-(list_of_neurons_num[0])] = mean_Accuracy / 10\n",
    "            training_results[hidden_layers_num-1][neurons-(list_of_neurons_num[0])] = mean_Accuracy / 10\n",
    "            \n",
    "            mean_Accuracy = 0\n",
    "            accuracy_training = 0\n",
    "            mean_accuracy_training = 0\n",
    "            pbar.update(1)\n",
    "    pbar.close()\n",
    "    return (results, training_results)\n",
    "            \n"
   ]
  },
  {
   "cell_type": "markdown",
   "metadata": {},
   "source": [
    "## Get accuracy based on the amount of layers and their size ( no scaling )\n"
   ]
  },
  {
   "cell_type": "code",
   "execution_count": null,
   "metadata": {},
   "outputs": [],
   "source": []
  },
  {
   "cell_type": "code",
   "execution_count": null,
   "metadata": {},
   "outputs": [],
   "source": [
    "\n",
    "ev1_result = evaluate(X_np_array,y_np_array,null)\n",
    "            \n",
    "ev1_result"
   ]
  },
  {
   "cell_type": "code",
   "execution_count": null,
   "metadata": {},
   "outputs": [],
   "source": []
  },
  {
   "cell_type": "markdown",
   "metadata": {},
   "source": [
    "## Get accuracy based on the amount of layers and their size ( with scaling)\n",
    "\n",
    "Randomly choos XX based on YY"
   ]
  },
  {
   "cell_type": "code",
   "execution_count": 14,
   "metadata": {},
   "outputs": [
    {
     "name": "stderr",
     "output_type": "stream",
     "text": [
      "\n",
      "  0%|          | 0/5 [00:00<?, ?it/s]\u001b[A\n",
      " 20%|██        | 1/5 [00:06<00:25,  6.34s/it]\u001b[A\n",
      " 40%|████      | 2/5 [00:16<00:22,  7.47s/it]\u001b[A\n",
      " 60%|██████    | 3/5 [00:32<00:20, 10.05s/it]\u001b[A\n",
      " 80%|████████  | 4/5 [00:55<00:13, 13.92s/it]\u001b[A\n",
      "100%|██████████| 5/5 [01:33<00:00, 18.73s/it]\u001b[A\n"
     ]
    },
    {
     "data": {
      "text/plain": [
       "array([[0.80977099],\n",
       "       [0.80672343],\n",
       "       [0.79831474],\n",
       "       [0.80596007],\n",
       "       [0.80136817]])"
      ]
     },
     "execution_count": 14,
     "metadata": {},
     "output_type": "execute_result"
    }
   ],
   "source": [
    "\n",
    "stuff = evaluate(X_np_array,y_np_array, 'sgd', list(range(1,6)), list(range(21,32) ,True)\n",
    "            \n",
    "stuff"
   ]
  },
  {
   "cell_type": "code",
   "execution_count": 15,
   "metadata": {},
   "outputs": [
    {
     "data": {
      "text/html": [
       "<div>\n",
       "<style scoped>\n",
       "    .dataframe tbody tr th:only-of-type {\n",
       "        vertical-align: middle;\n",
       "    }\n",
       "\n",
       "    .dataframe tbody tr th {\n",
       "        vertical-align: top;\n",
       "    }\n",
       "\n",
       "    .dataframe thead th {\n",
       "        text-align: right;\n",
       "    }\n",
       "</style>\n",
       "<table border=\"1\" class=\"dataframe\">\n",
       "  <thead>\n",
       "    <tr style=\"text-align: right;\">\n",
       "      <th></th>\n",
       "      <th>0</th>\n",
       "    </tr>\n",
       "  </thead>\n",
       "  <tbody>\n",
       "    <tr>\n",
       "      <th>0</th>\n",
       "      <td>0.809771</td>\n",
       "    </tr>\n",
       "    <tr>\n",
       "      <th>1</th>\n",
       "      <td>0.806723</td>\n",
       "    </tr>\n",
       "    <tr>\n",
       "      <th>2</th>\n",
       "      <td>0.798315</td>\n",
       "    </tr>\n",
       "    <tr>\n",
       "      <th>3</th>\n",
       "      <td>0.805960</td>\n",
       "    </tr>\n",
       "    <tr>\n",
       "      <th>4</th>\n",
       "      <td>0.801368</td>\n",
       "    </tr>\n",
       "  </tbody>\n",
       "</table>\n",
       "</div>"
      ],
      "text/plain": [
       "          0\n",
       "0  0.809771\n",
       "1  0.806723\n",
       "2  0.798315\n",
       "3  0.805960\n",
       "4  0.801368"
      ]
     },
     "execution_count": 15,
     "metadata": {},
     "output_type": "execute_result"
    }
   ],
   "source": [
    "stocastic_optimizer_Data = pd.DataFrame(stuff)\n",
    "stocastic_optimizer_Data\n",
    "\n",
    "stocastic_optimizer_Data"
   ]
  },
  {
   "cell_type": "markdown",
   "metadata": {},
   "source": [
    "## Get accuracy from 1-2 layers from 1 to 20 size nodes.\n",
    "\n",
    "This is to check if some better layer exists"
   ]
  },
  {
   "cell_type": "code",
   "execution_count": 17,
   "metadata": {},
   "outputs": [
    {
     "name": "stderr",
     "output_type": "stream",
     "text": [
      "\n",
      "  0%|          | 0/40 [00:00<?, ?it/s]\u001b[A\n",
      "  2%|▎         | 1/40 [00:06<04:05,  6.28s/it]\u001b[A\n",
      "  5%|▌         | 2/40 [00:13<04:05,  6.46s/it]\u001b[A\n",
      "  8%|▊         | 3/40 [00:18<03:44,  6.06s/it]\u001b[A\n",
      " 10%|█         | 4/40 [00:23<03:27,  5.77s/it]\u001b[A\n",
      " 12%|█▎        | 5/40 [00:30<03:31,  6.06s/it]\u001b[A\n",
      " 15%|█▌        | 6/40 [00:36<03:27,  6.09s/it]\u001b[A\n",
      " 18%|█▊        | 7/40 [00:42<03:17,  5.99s/it]\u001b[A\n",
      " 20%|██        | 8/40 [00:46<02:53,  5.43s/it]\u001b[A\n",
      " 22%|██▎       | 9/40 [00:50<02:37,  5.09s/it]\u001b[A\n",
      " 25%|██▌       | 10/40 [00:56<02:38,  5.30s/it]\u001b[A\n",
      " 28%|██▊       | 11/40 [01:00<02:25,  5.03s/it]\u001b[A\n",
      " 30%|███       | 12/40 [01:08<02:42,  5.80s/it]\u001b[A\n",
      " 32%|███▎      | 13/40 [01:13<02:33,  5.69s/it]\u001b[A\n",
      " 35%|███▌      | 14/40 [01:19<02:26,  5.65s/it]\u001b[A\n",
      " 38%|███▊      | 15/40 [01:28<02:46,  6.65s/it]\u001b[A\n",
      " 40%|████      | 16/40 [01:32<02:24,  6.03s/it]\u001b[A\n",
      " 42%|████▎     | 17/40 [01:37<02:12,  5.74s/it]\u001b[A\n",
      " 45%|████▌     | 18/40 [01:43<02:06,  5.74s/it]\u001b[A\n",
      " 48%|████▊     | 19/40 [01:49<02:03,  5.87s/it]\u001b[A\n",
      " 50%|█████     | 20/40 [01:55<01:56,  5.84s/it]\u001b[A\n",
      " 52%|█████▎    | 21/40 [01:58<01:31,  4.83s/it]\u001b[A\n",
      " 55%|█████▌    | 22/40 [02:11<02:11,  7.33s/it]\u001b[A\n",
      " 57%|█████▊    | 23/40 [02:25<02:38,  9.35s/it]\u001b[A\n",
      " 60%|██████    | 24/40 [02:36<02:37,  9.83s/it]\u001b[A\n",
      " 62%|██████▎   | 25/40 [02:43<02:17,  9.14s/it]\u001b[A\n",
      " 65%|██████▌   | 26/40 [02:53<02:11,  9.40s/it]\u001b[A\n",
      " 68%|██████▊   | 27/40 [03:06<02:14, 10.32s/it]\u001b[A\n",
      " 70%|███████   | 28/40 [03:15<01:59,  9.95s/it]\u001b[A\n",
      " 72%|███████▎  | 29/40 [03:26<01:55, 10.46s/it]\u001b[A\n",
      " 75%|███████▌  | 30/40 [03:37<01:43, 10.36s/it]\u001b[A\n",
      " 78%|███████▊  | 31/40 [03:49<01:37, 10.88s/it]\u001b[A\n",
      " 80%|████████  | 32/40 [04:00<01:27, 10.91s/it]\u001b[A\n",
      " 82%|████████▎ | 33/40 [04:10<01:14, 10.67s/it]\u001b[A\n",
      " 85%|████████▌ | 34/40 [04:20<01:03, 10.63s/it]\u001b[A\n",
      " 88%|████████▊ | 35/40 [04:31<00:52, 10.60s/it]\u001b[A\n",
      " 90%|█████████ | 36/40 [04:39<00:39,  9.76s/it]\u001b[A\n",
      " 92%|█████████▎| 37/40 [04:50<00:30, 10.14s/it]\u001b[A\n",
      " 95%|█████████▌| 38/40 [05:00<00:20, 10.27s/it]\u001b[A\n",
      " 98%|█████████▊| 39/40 [05:11<00:10, 10.40s/it]\u001b[A\n",
      "100%|██████████| 40/40 [05:20<00:00,  8.00s/it]\u001b[A\n"
     ]
    },
    {
     "data": {
      "text/plain": [
       "array([[0.76929536, 0.79143864, 0.80977099, 0.78686436, 0.79906048,\n",
       "        0.79983558, 0.80363476, 0.80747504, 0.80365238, 0.80442748,\n",
       "        0.80748679, 0.80669407, 0.80516735, 0.80748092, 0.8082384 ,\n",
       "        0.80976512, 0.80671169, 0.80823253, 0.80135643, 0.80671169],\n",
       "       [0.61801527, 0.780734  , 0.79219612, 0.77311803, 0.79752789,\n",
       "        0.80211979, 0.79908397, 0.8051791 , 0.79677041, 0.81206107,\n",
       "        0.79908397, 0.80824427, 0.80519084, 0.8051791 , 0.80900176,\n",
       "        0.80442161, 0.80061069, 0.80365238, 0.80440986, 0.80440986]])"
      ]
     },
     "execution_count": 17,
     "metadata": {},
     "output_type": "execute_result"
    }
   ],
   "source": [
    "\n",
    "result_1_2_layers = evaluate(X_np_array,y_np_array, 'sgd', list(range(1,3)), list(range(1,21)) ,True)\n",
    "            \n",
    "result_1_2_layers"
   ]
  },
  {
   "cell_type": "code",
   "execution_count": 23,
   "metadata": {},
   "outputs": [
    {
     "data": {
      "text/html": [
       "<div>\n",
       "<style scoped>\n",
       "    .dataframe tbody tr th:only-of-type {\n",
       "        vertical-align: middle;\n",
       "    }\n",
       "\n",
       "    .dataframe tbody tr th {\n",
       "        vertical-align: top;\n",
       "    }\n",
       "\n",
       "    .dataframe thead th {\n",
       "        text-align: right;\n",
       "    }\n",
       "</style>\n",
       "<table border=\"1\" class=\"dataframe\">\n",
       "  <thead>\n",
       "    <tr style=\"text-align: right;\">\n",
       "      <th></th>\n",
       "      <th>0</th>\n",
       "      <th>1</th>\n",
       "      <th>2</th>\n",
       "      <th>3</th>\n",
       "      <th>4</th>\n",
       "      <th>5</th>\n",
       "      <th>6</th>\n",
       "      <th>7</th>\n",
       "      <th>8</th>\n",
       "      <th>9</th>\n",
       "      <th>10</th>\n",
       "      <th>11</th>\n",
       "      <th>12</th>\n",
       "      <th>13</th>\n",
       "      <th>14</th>\n",
       "      <th>15</th>\n",
       "      <th>16</th>\n",
       "      <th>17</th>\n",
       "      <th>18</th>\n",
       "      <th>19</th>\n",
       "    </tr>\n",
       "  </thead>\n",
       "  <tbody>\n",
       "    <tr>\n",
       "      <th>0</th>\n",
       "      <td>0.769</td>\n",
       "      <td>0.791</td>\n",
       "      <td>0.810</td>\n",
       "      <td>0.787</td>\n",
       "      <td>0.799</td>\n",
       "      <td>0.800</td>\n",
       "      <td>0.804</td>\n",
       "      <td>0.807</td>\n",
       "      <td>0.804</td>\n",
       "      <td>0.804</td>\n",
       "      <td>0.807</td>\n",
       "      <td>0.807</td>\n",
       "      <td>0.805</td>\n",
       "      <td>0.807</td>\n",
       "      <td>0.808</td>\n",
       "      <td>0.810</td>\n",
       "      <td>0.807</td>\n",
       "      <td>0.808</td>\n",
       "      <td>0.801</td>\n",
       "      <td>0.807</td>\n",
       "    </tr>\n",
       "    <tr>\n",
       "      <th>1</th>\n",
       "      <td>0.618</td>\n",
       "      <td>0.781</td>\n",
       "      <td>0.792</td>\n",
       "      <td>0.773</td>\n",
       "      <td>0.798</td>\n",
       "      <td>0.802</td>\n",
       "      <td>0.799</td>\n",
       "      <td>0.805</td>\n",
       "      <td>0.797</td>\n",
       "      <td>0.812</td>\n",
       "      <td>0.799</td>\n",
       "      <td>0.808</td>\n",
       "      <td>0.805</td>\n",
       "      <td>0.805</td>\n",
       "      <td>0.809</td>\n",
       "      <td>0.804</td>\n",
       "      <td>0.801</td>\n",
       "      <td>0.804</td>\n",
       "      <td>0.804</td>\n",
       "      <td>0.804</td>\n",
       "    </tr>\n",
       "  </tbody>\n",
       "</table>\n",
       "</div>"
      ],
      "text/plain": [
       "       0      1      2      3      4      5      6      7      8      9  \\\n",
       "0  0.769  0.791  0.810  0.787  0.799  0.800  0.804  0.807  0.804  0.804   \n",
       "1  0.618  0.781  0.792  0.773  0.798  0.802  0.799  0.805  0.797  0.812   \n",
       "\n",
       "      10     11     12     13     14     15     16     17     18     19  \n",
       "0  0.807  0.807  0.805  0.807  0.808  0.810  0.807  0.808  0.801  0.807  \n",
       "1  0.799  0.808  0.805  0.805  0.809  0.804  0.801  0.804  0.804  0.804  "
      ]
     },
     "execution_count": 23,
     "metadata": {},
     "output_type": "execute_result"
    }
   ],
   "source": [
    "_1_2_layers_Data = pd.DataFrame(result_1_2_layers) # 0.812 max\n",
    "_1_2_layers_Data.round(3)"
   ]
  },
  {
   "cell_type": "markdown",
   "metadata": {},
   "source": [
    "## Learning curve\n",
    "\n",
    "So it has been checke that 2 layers with 28 nodes gives the best accuracy\n",
    "Let us check now the learning curve.\n",
    "\n",
    "let us get also the training error.\n"
   ]
  },
  {
   "cell_type": "code",
   "execution_count": 6,
   "metadata": {},
   "outputs": [
    {
     "data": {
      "text/plain": [
       "<module 'matplotlib.pyplot' from '/home/michalkb/miniconda3/envs/PythonNN/lib/python3.8/site-packages/matplotlib/pyplot.py'>"
      ]
     },
     "execution_count": 6,
     "metadata": {},
     "output_type": "execute_result"
    },
    {
     "data": {
      "image/png": "[encoded data removed]",
      "text/plain": [
       "<Figure size 720x1080 with 6 Axes>"
      ]
     },
     "metadata": {
      "needs_background": "light"
     },
     "output_type": "display_data"
    }
   ],
   "source": [
    "from sklearn.neural_network import MLPClassifier\n",
    "from plotter import plot_learning_curve\n",
    "from sklearn.model_selection import ShuffleSplit\n",
    "from sklearn.model_selection import learning_curve\n",
    "\n",
    "import matplotlib.pyplot as plt\n",
    "\n",
    "\n",
    "fig, axes = plt.subplots(3, 2, figsize=(10, 15))\n",
    "\n",
    " # source : https://scikit-learn.org/stable/auto_examples/model_selection/plot_learning_curve.html#sphx-glr-download-auto-examples-model-selection-plot-learning-curve-py\n",
    "cv = ShuffleSplit(n_splits=10, test_size=0.2, random_state=0)\n",
    "hidden_layers = (28,28,)\n",
    "\n",
    "estimator = MLPClassifier(solver=\"sgd\", alpha=1e-1,\n",
    "                                hidden_layer_sizes=hidden_layers, random_state=1, max_iter=1000)\n",
    "\n",
    "\n",
    "scaler = skl.preprocessing.StandardScaler().fit(X_np_array)\n",
    "X_scaled_data = scaler.transform(X_np_array)\n",
    "\n",
    "\n",
    "plot_learning_curve(estimator, \"2x28 hidden layers learning curve w/ scaling\", X_scaled_data, y_np_array, axes=axes[:, 1], ylim=None,\n",
    "                   cv=cv, n_jobs=-1, train_sizes=np.linspace(0.1, 1.0, 10))\n",
    "\n",
    "plot_learning_curve(estimator, \"2x28 hidden layers learning curve\", X_np_array, y_np_array, axes=axes[:, 0], ylim=None,\n",
    "                   cv=cv, n_jobs=-1, train_sizes=np.linspace(0.1, 1.0, 10))\n",
    "# from sklearn.model_selection import cross_val_score\n",
    "# print(cross_val_score(estimator, X_np_array, y_np_array, cv=3))"
   ]
  },
  {
   "cell_type": "code",
   "execution_count": 15,
   "metadata": {},
   "outputs": [
    {
     "data": {
      "text/plain": [
       "1309"
      ]
     },
     "execution_count": 15,
     "metadata": {},
     "output_type": "execute_result"
    }
   ],
   "source": []
  },
  {
   "cell_type": "code",
   "execution_count": null,
   "metadata": {},
   "outputs": [],
   "source": []
  }
 ],
 "metadata": {
  "kernelspec": {
   "display_name": "Python 3",
   "language": "python",
   "name": "python3"
  },
  "language_info": {
   "codemirror_mode": {
    "name": "ipython",
    "version": 3
   },
   "file_extension": ".py",
   "mimetype": "text/x-python",
   "name": "python",
   "nbconvert_exporter": "python",
   "pygments_lexer": "ipython3",
   "version": "3.8.2"
  }
 },
 "nbformat": 4,
 "nbformat_minor": 4
}
